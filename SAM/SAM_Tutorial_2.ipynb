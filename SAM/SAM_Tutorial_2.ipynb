{
  "nbformat": 4,
  "nbformat_minor": 0,
  "metadata": {
    "colab": {
      "private_outputs": true,
      "provenance": [],
      "gpuType": "T4",
      "authorship_tag": "ABX9TyM5sfCACWwA9X/5wpMPSDln",
      "include_colab_link": true
    },
    "kernelspec": {
      "name": "python3",
      "display_name": "Python 3"
    },
    "language_info": {
      "name": "python"
    },
    "accelerator": "GPU"
  },
  "cells": [
    {
      "cell_type": "markdown",
      "metadata": {
        "id": "view-in-github",
        "colab_type": "text"
      },
      "source": [
        "<a href=\"https://colab.research.google.com/github/jungsh210/AI-Project/blob/main/SAM/SAM_Tutorial_2.ipynb\" target=\"_parent\"><img src=\"https://colab.research.google.com/assets/colab-badge.svg\" alt=\"Open In Colab\"/></a>"
      ]
    },
    {
      "cell_type": "markdown",
      "source": [
        "# SAM Tutorial\n",
        "# #2.선택 분할"
      ],
      "metadata": {
        "id": "ffduOhoJYDT9"
      }
    },
    {
      "cell_type": "markdown",
      "source": [
        "## SAM 환경 세팅"
      ],
      "metadata": {
        "id": "mEPOK9ClV84B"
      }
    },
    {
      "cell_type": "code",
      "execution_count": null,
      "metadata": {
        "id": "VLKeGDsP5VB-"
      },
      "outputs": [],
      "source": [
        "import torch\n",
        "import torchvision\n",
        "print(\"PyTorch version:\", torch.__version__)\n",
        "print(\"Torchvision version:\", torchvision.__version__)\n",
        "print(\"CUDA is available:\", torch.cuda.is_available())\n",
        "import sys\n",
        "!{sys.executable} -m pip install opencv-python matplotlib\n",
        "!{sys.executable} -m pip install 'git+https://github.com/facebookresearch/segment-anything.git'\n",
        "\n",
        "!mkdir images\n",
        "!wget -P images https://raw.githubusercontent.com/facebookresearch/segment-anything/main/notebooks/images/truck.jpg\n",
        "\n",
        "!wget https://dl.fbaipublicfiles.com/segment_anything/sam_vit_h_4b8939.pth"
      ]
    },
    {
      "cell_type": "code",
      "source": [
        "import numpy as np\n",
        "import torch\n",
        "import matplotlib.pyplot as plt\n",
        "import cv2\n",
        "import io\n",
        "from PIL import Image\n",
        "from google.colab import files\n",
        "\n",
        "def show_mask(mask, ax, random_color=False):\n",
        "    if random_color:\n",
        "        color = np.concatenate([np.random.random(3), np.array([0.6])], axis=0)\n",
        "    else:\n",
        "        color = np.array([30/255, 144/255, 255/255, 0.6])\n",
        "    h, w = mask.shape[-2:]\n",
        "    mask_image = mask.reshape(h, w, 1) * color.reshape(1, 1, -1)\n",
        "    ax.imshow(mask_image)\n",
        "\n",
        "def show_points(coords, labels, ax, marker_size=375):\n",
        "    pos_points = coords[labels==1]\n",
        "    neg_points = coords[labels==0]\n",
        "    ax.scatter(pos_points[:, 0], pos_points[:, 1], color='green', marker='*', s=marker_size, edgecolor='white', linewidth=1.25)\n",
        "    ax.scatter(neg_points[:, 0], neg_points[:, 1], color='red', marker='*', s=marker_size, edgecolor='white', linewidth=1.25)\n",
        "\n",
        "def show_box(box, ax):\n",
        "    x0, y0 = box[0], box[1]\n",
        "    w, h = box[2] - box[0], box[3] - box[1]\n",
        "    ax.add_patch(plt.Rectangle((x0, y0), w, h, edgecolor='green', facecolor=(0,0,0,0), lw=2))"
      ],
      "metadata": {
        "id": "PE_KJUTyBuy3"
      },
      "execution_count": null,
      "outputs": []
    },
    {
      "cell_type": "markdown",
      "source": [
        "## 이미지 업로드\n",
        "- 다운받은 샘플 이미지를 사용하는 경우\n",
        "   - image = cv2.imread(\"images/dog.jpg\") \\\n",
        "     image = cv2.cvtColor(image, cv2.COLOR_BGR2RGB)\n",
        "- 이미지를 업로드해서 사용하는 경우\n",
        "   - image_file = files.upload() \\\n",
        "     image = io.BytesIO(image_file[list(image_file.keys())[0]])\\\n",
        "     image = np.array(Image.open(image))"
      ],
      "metadata": {
        "id": "O54qEOn_WAgf"
      }
    },
    {
      "cell_type": "code",
      "source": [
        "image = cv2.imread(\"images/truck.jpg\")\n",
        "image = cv2.cvtColor(image, cv2.COLOR_BGR2RGB)"
      ],
      "metadata": {
        "id": "rp7KzKW-OglT"
      },
      "execution_count": null,
      "outputs": []
    },
    {
      "cell_type": "code",
      "source": [
        "plt.figure(figsize=(10,10))\n",
        "plt.imshow(image)\n",
        "plt.axis('on')\n",
        "plt.show()"
      ],
      "metadata": {
        "id": "kA5Eh7Scpaor"
      },
      "execution_count": null,
      "outputs": []
    },
    {
      "cell_type": "markdown",
      "source": [
        "## point로 객체 분할\n",
        "- 이미지에서 포인트를 지정하여 객체 분할\n",
        "- **multimask_output** 옵션을 사용하여 계층적인 분할 결과를 얻을 수 있음"
      ],
      "metadata": {
        "id": "JcKFyvf2WcLA"
      }
    },
    {
      "cell_type": "markdown",
      "source": [
        "- 포인트로 객체 분할을 하기 위해 이미지의 특정 위치에 좌표 설정\n",
        "- 예제에서는 트럭의 창문에 포린트 지정"
      ],
      "metadata": {
        "id": "SAm1am2Xh_of"
      }
    },
    {
      "cell_type": "code",
      "source": [
        "import sys\n",
        "sys.path.append('..')\n",
        "from segment_anything import sam_model_registry, SamAutomaticMaskGenerator, SamPredictor\n",
        "\n",
        "sam_checkpoint = \"sam_vit_h_4b8939.pth\"\n",
        "model_type = 'vit_h'\n",
        "\n",
        "device = 'cuda'\n",
        "\n",
        "sam = sam_model_registry[model_type](checkpoint=sam_checkpoint)\n",
        "sam.to(device=device)\n",
        "\n",
        "predictor = SamPredictor(sam)"
      ],
      "metadata": {
        "id": "o2IVey_rqc7T"
      },
      "execution_count": null,
      "outputs": []
    },
    {
      "cell_type": "code",
      "source": [
        "predictor.set_image(image)"
      ],
      "metadata": {
        "id": "ssj_ZKYRhCdn"
      },
      "execution_count": null,
      "outputs": []
    },
    {
      "cell_type": "code",
      "source": [
        "input_point = np.array([[500,375]])\n",
        "input_label = np.array([1])\n",
        "\n",
        "plt.figure(figsize=(10,10))\n",
        "plt.imshow(image)\n",
        "show_points(input_point, input_label, plt.gca())\n",
        "plt.axis('on')\n",
        "plt.show()"
      ],
      "metadata": {
        "id": "VOOTSejghimu"
      },
      "execution_count": null,
      "outputs": []
    },
    {
      "cell_type": "markdown",
      "source": [
        "- multitask_output = True로 지정하여 mask가 3개 출력되고 이들은 계층적 분할 결과\n",
        "- 예제의 경우 가장 단위의 창문, 연결된 창문, 차량 전체를 분할"
      ],
      "metadata": {
        "id": "d4KyImstjC9f"
      }
    },
    {
      "cell_type": "code",
      "source": [
        "masks, scores, logits = predictor.predict(\n",
        "    point_coords = input_point,\n",
        "    point_labels = input_label,\n",
        "    multimask_output = True,\n",
        ")"
      ],
      "metadata": {
        "id": "kBbHJXsDh5nU"
      },
      "execution_count": null,
      "outputs": []
    },
    {
      "cell_type": "code",
      "source": [
        "for i, (mask, score) in enumerate(zip(masks, scores)):\n",
        "  plt.figure(figsize=(10,10))\n",
        "  plt.imshow(image)\n",
        "  show_mask(mask, plt.gca())\n",
        "  show_points(input_point, input_label, plt.gca())\n",
        "  plt.title(f\"mask {i+1}, Score: {score:.3f}\", fontsize=18)\n",
        "  plt.axis(\"off\")\n",
        "  plt.show()"
      ],
      "metadata": {
        "id": "Fa-aTG8TiU4o"
      },
      "execution_count": null,
      "outputs": []
    },
    {
      "cell_type": "markdown",
      "source": [
        "-"
      ],
      "metadata": {
        "id": "DBNJeP7pi5qM"
      }
    },
    {
      "cell_type": "markdown",
      "source": [
        "## 2개 이상의 points로 객체 분할\n",
        "- 다중 points를 사용하여 points를 공유하는 segment를 추출\n",
        "- **input_label** 설정으로 첫 번째 point는 포함이고, 두 번째 point는 포함하지 않는 segment 추출 가능\n",
        "- 2개 이상의 포인트들로 포인트가 함께 공유하는 객체를 분할할 수 있음"
      ],
      "metadata": {
        "id": "VeV5LLeRjQnz"
      }
    },
    {
      "cell_type": "markdown",
      "source": [
        "- 포인트의 input_label을 설정하여(0 또는 1) 특정 포인트는 포함하고 특정 포인트는 포함하지 않는 분할 가능\n",
        "- 예제의 경우 첫 번째 포인트(트럭 창문)은 포함하고 두 번째 포인트(트럭 앞문)은 포함하지 않는 분할 결과를 보여줌"
      ],
      "metadata": {
        "id": "DQxNMxhnq5zl"
      }
    },
    {
      "cell_type": "code",
      "source": [
        "input_point = np.array([[500,375], [1125,625]])\n",
        "input_label = np.array([1,1])\n",
        "\n",
        "mask_input = logits[np.argmax(scores), :, :]  # Choose the model's best mask"
      ],
      "metadata": {
        "id": "VMpPCg9gi00o"
      },
      "execution_count": null,
      "outputs": []
    },
    {
      "cell_type": "code",
      "source": [
        "masks, _, _ = predictor.predict(\n",
        "    point_coords = input_point,\n",
        "    point_labels = input_label,\n",
        "    mask_input = mask_input[None, :, :],\n",
        "    multimask_output = False,\n",
        ")"
      ],
      "metadata": {
        "id": "iHKD-aknj4Uw"
      },
      "execution_count": null,
      "outputs": []
    },
    {
      "cell_type": "code",
      "source": [
        "plt.figure(figsize=(10,10))\n",
        "plt.imshow(image)\n",
        "show_mask(masks, plt.gca())\n",
        "show_points(input_point, input_label, plt.gca())\n",
        "plt.show()"
      ],
      "metadata": {
        "id": "o2u02hANmvI9"
      },
      "execution_count": null,
      "outputs": []
    },
    {
      "cell_type": "markdown",
      "source": [
        "## box로 객체 분할\n",
        "- box 내부의 segment 추출"
      ],
      "metadata": {
        "id": "3DeiWt2OrMgC"
      }
    },
    {
      "cell_type": "code",
      "source": [
        "input_box = np.array([425,600,700,875])"
      ],
      "metadata": {
        "id": "EhpnmPZPm70Q"
      },
      "execution_count": null,
      "outputs": []
    },
    {
      "cell_type": "code",
      "source": [
        "masks, _, _ = predictor.predict(\n",
        "    point_coords = None,\n",
        "    point_labels = None,\n",
        "    box = input_box[None, :],\n",
        "    multimask_output = False,\n",
        ")"
      ],
      "metadata": {
        "id": "uAYH0P14tgYz"
      },
      "execution_count": null,
      "outputs": []
    },
    {
      "cell_type": "code",
      "source": [
        "plt.figure(figsize=(10,10))\n",
        "plt.imshow(image)\n",
        "show_mask(masks[0], plt.gca())\n",
        "show_box(input_box, plt.gca())\n",
        "plt.axis('off')\n",
        "plt.show()"
      ],
      "metadata": {
        "id": "B2uVT7o2txa7"
      },
      "execution_count": null,
      "outputs": []
    },
    {
      "cell_type": "markdown",
      "source": [
        "## box와 points의 조합으로 분할\n",
        "- box와 points의 조합으로 box 내부에서 points 부분을 제외한 segmemt 추출"
      ],
      "metadata": {
        "id": "0fG8vpxQuB6n"
      }
    },
    {
      "cell_type": "code",
      "source": [
        "input_box = np.array([425, 600, 700, 875])\n",
        "input_point = np.array([[575, 750]])\n",
        "input_label = np.array([0])"
      ],
      "metadata": {
        "id": "y8g4lwPDt_SU"
      },
      "execution_count": null,
      "outputs": []
    },
    {
      "cell_type": "code",
      "source": [
        "masks, _, _ = predictor.predict(\n",
        "    point_coords=input_point,\n",
        "    point_labels=input_label,\n",
        "    box=input_box,\n",
        "    multimask_output=False,\n",
        ")"
      ],
      "metadata": {
        "id": "1-Y6_6qFuTtA"
      },
      "execution_count": null,
      "outputs": []
    },
    {
      "cell_type": "code",
      "source": [
        "plt.figure(figsize=(10,10))\n",
        "plt.imshow(image)\n",
        "show_mask(masks[0], plt.gca())\n",
        "show_box(input_box, plt.gca())\n",
        "show_points(input_point, input_label, plt.gca())\n",
        "plt.axis('off')\n",
        "plt.show()"
      ],
      "metadata": {
        "id": "RSHBSO_puqRS"
      },
      "execution_count": null,
      "outputs": []
    },
    {
      "cell_type": "markdown",
      "source": [
        "## 다중 입력 프롬프트 사용\n",
        "- 하나의 이미지에다중 입력 프롬프트를 취할 수 있음"
      ],
      "metadata": {
        "id": "SV25j6SBvYqZ"
      }
    },
    {
      "cell_type": "code",
      "source": [
        "input_boxes = torch.tensor([\n",
        "    [75, 275, 1725, 850],\n",
        "    [425, 600, 700, 875],\n",
        "    [1375, 550, 1650, 800],\n",
        "    [1240, 675, 1400, 750],\n",
        "], device = predictor.device)"
      ],
      "metadata": {
        "id": "LOruDaI9vW37"
      },
      "execution_count": null,
      "outputs": []
    },
    {
      "cell_type": "code",
      "source": [
        "transformed_boxes = predictor.transform.apply_boxes_torch(input_boxes, image.shape[:2])\n",
        "masks, _, _ = predictor.predict_torch(\n",
        "    point_coords = None,\n",
        "    point_labels = None,\n",
        "    boxes = transformed_boxes,\n",
        "    multimask_output = False,\n",
        ")"
      ],
      "metadata": {
        "id": "x4LrFHKevxO8"
      },
      "execution_count": null,
      "outputs": []
    },
    {
      "cell_type": "code",
      "source": [
        "plt.figure(figsize=(10,10))\n",
        "plt.imshow(image)\n",
        "for mask in masks:\n",
        "  show_mask(mask.cpu().numpy(), plt.gca(), random_color = True)\n",
        "for box in input_boxes:\n",
        "  show_box(box.cpu().numpy(), plt.gca())\n",
        "plt.axis('off')\n",
        "plt.show()"
      ],
      "metadata": {
        "id": "BMI2OOvRwPIn"
      },
      "execution_count": null,
      "outputs": []
    },
    {
      "cell_type": "code",
      "source": [],
      "metadata": {
        "id": "B0aJlVNLwouy"
      },
      "execution_count": null,
      "outputs": []
    }
  ]
}