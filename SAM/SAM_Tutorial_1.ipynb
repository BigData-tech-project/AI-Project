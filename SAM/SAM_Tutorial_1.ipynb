{
  "nbformat": 4,
  "nbformat_minor": 0,
  "metadata": {
    "colab": {
      "private_outputs": true,
      "provenance": [],
      "gpuType": "T4",
      "authorship_tag": "ABX9TyOyYsGPBP1yM5oTMsH00iDq",
      "include_colab_link": true
    },
    "kernelspec": {
      "name": "python3",
      "display_name": "Python 3"
    },
    "language_info": {
      "name": "python"
    },
    "accelerator": "GPU"
  },
  "cells": [
    {
      "cell_type": "markdown",
      "metadata": {
        "id": "view-in-github",
        "colab_type": "text"
      },
      "source": [
        "<a href=\"https://colab.research.google.com/github/jungsh210/AI-Project/blob/main/SAM/SAM_Tutorial_1.ipynb\" target=\"_parent\"><img src=\"https://colab.research.google.com/assets/colab-badge.svg\" alt=\"Open In Colab\"/></a>"
      ]
    },
    {
      "cell_type": "markdown",
      "source": [
        "# SAM Tutorial\n",
        "# #1.자동 분할"
      ],
      "metadata": {
        "id": "ffduOhoJYDT9"
      }
    },
    {
      "cell_type": "markdown",
      "source": [
        "## SAM 환경 세팅"
      ],
      "metadata": {
        "id": "mEPOK9ClV84B"
      }
    },
    {
      "cell_type": "code",
      "execution_count": null,
      "metadata": {
        "id": "VLKeGDsP5VB-"
      },
      "outputs": [],
      "source": [
        "import torch\n",
        "import torchvision\n",
        "print(\"PyTorch version:\", torch.__version__)\n",
        "print(\"Torchvision version:\", torchvision.__version__)\n",
        "print(\"CUDA is available:\", torch.cuda.is_available())\n",
        "import sys\n",
        "!{sys.executable} -m pip install opencv-python matplotlib\n",
        "!{sys.executable} -m pip install 'git+https://github.com/facebookresearch/segment-anything.git'\n",
        "\n",
        "!mkdir images\n",
        "!wget -P images https://raw.githubusercontent.com/facebookresearch/segment-anything/main/notebooks/images/dog.jpg\n",
        "\n",
        "!wget https://dl.fbaipublicfiles.com/segment_anything/sam_vit_h_4b8939.pth"
      ]
    },
    {
      "cell_type": "code",
      "source": [
        "import numpy as np\n",
        "import torch\n",
        "import matplotlib.pyplot as plt\n",
        "import cv2\n",
        "import io\n",
        "from PIL import Image\n",
        "from google.colab import files\n",
        "\n",
        "def show_anns(anns):\n",
        "  if len(anns) == 0:\n",
        "    return\n",
        "  sorted_anns = sorted(anns, key=(lambda x: x['area']), reverse = True)\n",
        "  ax = plt.gca()\n",
        "  ax.set_autoscale_on(False)\n",
        "  polygons = []\n",
        "  color = []\n",
        "  for ann in sorted_anns:\n",
        "    m = ann['segmentation']\n",
        "    img = np.ones((m.shape[0], m.shape[1], 3))\n",
        "    color_mask = np.random.random((1,3)).tolist()[0]\n",
        "    for i in range(3):\n",
        "      img[:,:,i] = color_mask[i]\n",
        "    ax.imshow(np.dstack((img, m*0.35)))"
      ],
      "metadata": {
        "id": "PE_KJUTyBuy3"
      },
      "execution_count": null,
      "outputs": []
    },
    {
      "cell_type": "markdown",
      "source": [
        "## 이미지 업로드\n",
        "- 다운받은 샘플 이미지를 사용하는 경우\n",
        "   - image = cv2.imread(\"images/dog.jpg\") \\\n",
        "     image = cv2.cvtColor(image, cv2.COLOR_BGR2RGB)\n",
        "- 이미지를 업로드해서 사용하는 경우\n",
        "   - image_file = files.upload() \\\n",
        "     image = io.BytesIO(image_file[list(image_file.keys())[0]])\\\n",
        "     image = np.array(Image.open(image))"
      ],
      "metadata": {
        "id": "O54qEOn_WAgf"
      }
    },
    {
      "cell_type": "code",
      "source": [
        "image = cv2.imread(\"images/dog.jpg\")\n",
        "image = cv2.cvtColor(image, cv2.COLOR_BGR2RGB)"
      ],
      "metadata": {
        "id": "rp7KzKW-OglT"
      },
      "execution_count": null,
      "outputs": []
    },
    {
      "cell_type": "code",
      "source": [
        "plt.figure(figsize=(20,20))\n",
        "plt.imshow(image)\n",
        "plt.axis('off')\n",
        "plt.show()"
      ],
      "metadata": {
        "id": "kA5Eh7Scpaor"
      },
      "execution_count": null,
      "outputs": []
    },
    {
      "cell_type": "markdown",
      "source": [
        "## 자동 mask 생성"
      ],
      "metadata": {
        "id": "JcKFyvf2WcLA"
      }
    },
    {
      "cell_type": "code",
      "source": [
        "import sys\n",
        "sys.path.append('..')\n",
        "from segment_anything import sam_model_registry, SamAutomaticMaskGenerator, SamPredictor\n",
        "\n",
        "sam_checkpoint = \"sam_vit_h_4b8939.pth\"\n",
        "model_type = 'vit_h'\n",
        "\n",
        "device = 'cuda'\n",
        "\n",
        "sam = sam_model_registry[model_type](checkpoint=sam_checkpoint)\n",
        "sam.to(device=device)\n",
        "\n",
        "mask_generator = SamAutomaticMaskGenerator(sam)"
      ],
      "metadata": {
        "id": "o2IVey_rqc7T"
      },
      "execution_count": null,
      "outputs": []
    },
    {
      "cell_type": "markdown",
      "source": [
        "## run **generate** with defalut parameters\n",
        "- 이미지 입력만으로 객체 분할\n",
        "- Default 파라미터 값으로 실행"
      ],
      "metadata": {
        "id": "rbWYFGr6WgtK"
      }
    },
    {
      "cell_type": "code",
      "source": [
        "masks = mask_generator.generate(image)"
      ],
      "metadata": {
        "id": "dArRF7P4q8aQ"
      },
      "execution_count": null,
      "outputs": []
    },
    {
      "cell_type": "code",
      "source": [
        "print(len(masks))\n",
        "print(masks[0].keys())"
      ],
      "metadata": {
        "id": "8ksnHFzSrC20"
      },
      "execution_count": null,
      "outputs": []
    },
    {
      "cell_type": "code",
      "source": [
        "plt.figure(figsize=(20,20))\n",
        "plt.imshow(image)\n",
        "show_anns(masks)\n",
        "plt.axis('off')\n",
        "plt.show()"
      ],
      "metadata": {
        "id": "KNowQ08OrGuN"
      },
      "execution_count": null,
      "outputs": []
    },
    {
      "cell_type": "markdown",
      "source": [
        "## run generate parameter 설정\n",
        "- 포인트가 얼마나 조밀하게 샘플링 되는지\n",
        "- 품질이 낮거나 중복된 마스크를 제거하기 위한 임계값 제어"
      ],
      "metadata": {
        "id": "m3tegBk1W0H1"
      }
    },
    {
      "cell_type": "markdown",
      "source": [
        "## mask generator의 파라미터를 변경하여 객체 분할"
      ],
      "metadata": {
        "id": "e3wu5Uv4X2av"
      }
    },
    {
      "cell_type": "code",
      "source": [
        "mask_generator_2 = SamAutomaticMaskGenerator(\n",
        "    model=sam,\n",
        "    points_per_side=32,\n",
        "    pred_iou_thresh=0.86,\n",
        "    stability_score_thresh=0.92,\n",
        "    crop_n_layers=1,\n",
        "    crop_n_points_downscale_factor=2,\n",
        "    min_mask_region_area=100,  # Requires open-cv to run post-processing\n",
        ")"
      ],
      "metadata": {
        "id": "1CBCXS-9W8yS"
      },
      "execution_count": null,
      "outputs": []
    },
    {
      "cell_type": "code",
      "source": [
        "masks2 = mask_generator_2.generate(image)"
      ],
      "metadata": {
        "id": "YBE5HJJdW_br"
      },
      "execution_count": null,
      "outputs": []
    },
    {
      "cell_type": "code",
      "source": [
        "len(masks2)"
      ],
      "metadata": {
        "id": "6Eor0BiqXCkz"
      },
      "execution_count": null,
      "outputs": []
    },
    {
      "cell_type": "code",
      "source": [
        "plt.figure(figsize=(20,20))\n",
        "plt.imshow(image)\n",
        "show_anns(masks2)\n",
        "plt.axis('off')\n",
        "plt.show()"
      ],
      "metadata": {
        "id": "5TjI4XglXIUo"
      },
      "execution_count": null,
      "outputs": []
    }
  ]
}